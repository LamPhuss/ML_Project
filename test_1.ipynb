{
 "cells": [
  {
   "attachments": {},
   "cell_type": "markdown",
   "metadata": {},
   "source": [
    "Import needed library for learning model"
   ]
  },
  {
   "cell_type": "code",
   "execution_count": 22,
   "metadata": {},
   "outputs": [],
   "source": [
    "import pandas as pd \n",
    "import numpy as np\n",
    "import seaborn as sns\n",
    "import matplotlib.pyplot as plt\n",
    "from sklearn.model_selection import cross_val_score, train_test_split\n",
    "from sklearn.preprocessing import MinMaxScaler\n",
    "from sklearn.preprocessing import LabelEncoder"
   ]
  },
  {
   "attachments": {},
   "cell_type": "markdown",
   "metadata": {},
   "source": [
    "Build dataframe for training set"
   ]
  },
  {
   "cell_type": "code",
   "execution_count": 23,
   "metadata": {},
   "outputs": [
    {
     "data": {
      "text/html": [
       "<div>\n",
       "<style scoped>\n",
       "    .dataframe tbody tr th:only-of-type {\n",
       "        vertical-align: middle;\n",
       "    }\n",
       "\n",
       "    .dataframe tbody tr th {\n",
       "        vertical-align: top;\n",
       "    }\n",
       "\n",
       "    .dataframe thead th {\n",
       "        text-align: right;\n",
       "    }\n",
       "</style>\n",
       "<table border=\"1\" class=\"dataframe\">\n",
       "  <thead>\n",
       "    <tr style=\"text-align: right;\">\n",
       "      <th></th>\n",
       "      <th>Customer_id</th>\n",
       "      <th>make</th>\n",
       "      <th>model</th>\n",
       "      <th>variant</th>\n",
       "      <th>car_price</th>\n",
       "      <th>car_badges</th>\n",
       "      <th>car_title</th>\n",
       "      <th>car_sub_title</th>\n",
       "      <th>car_attention_grabber</th>\n",
       "      <th>car_specs</th>\n",
       "      <th>...</th>\n",
       "      <th>num_owner</th>\n",
       "      <th>ulez</th>\n",
       "      <th>full_service</th>\n",
       "      <th>part_service</th>\n",
       "      <th>part_warranty</th>\n",
       "      <th>full_dealership</th>\n",
       "      <th>first_year_road_tax</th>\n",
       "      <th>brand_new</th>\n",
       "      <th>finance_available</th>\n",
       "      <th>discounted</th>\n",
       "    </tr>\n",
       "  </thead>\n",
       "  <tbody>\n",
       "    <tr>\n",
       "      <th>0</th>\n",
       "      <td>0</td>\n",
       "      <td>AC</td>\n",
       "      <td>Cobra</td>\n",
       "      <td>NaN</td>\n",
       "      <td>89995</td>\n",
       "      <td>NaN</td>\n",
       "      <td>AC Cobra</td>\n",
       "      <td>4.9 MK IV CRS 2dr</td>\n",
       "      <td>GENUINE AC COBRA CRS 522 BHP</td>\n",
       "      <td>2001 (X reg), Convertible, 14,400 miles, 4.9L,...</td>\n",
       "      <td>...</td>\n",
       "      <td>5.0</td>\n",
       "      <td>0</td>\n",
       "      <td>0</td>\n",
       "      <td>0</td>\n",
       "      <td>0</td>\n",
       "      <td>0</td>\n",
       "      <td>0</td>\n",
       "      <td>0</td>\n",
       "      <td>0</td>\n",
       "      <td>0</td>\n",
       "    </tr>\n",
       "    <tr>\n",
       "      <th>1</th>\n",
       "      <td>1</td>\n",
       "      <td>AC</td>\n",
       "      <td>Cobra</td>\n",
       "      <td>NaN</td>\n",
       "      <td>92500</td>\n",
       "      <td>''</td>\n",
       "      <td>AC Cobra</td>\n",
       "      <td>378 - MkIV</td>\n",
       "      <td>PHYSICAL CAR!</td>\n",
       "      <td>2019 (T reg), Convertible, 650 miles, Manual, ...</td>\n",
       "      <td>...</td>\n",
       "      <td>NaN</td>\n",
       "      <td>0</td>\n",
       "      <td>0</td>\n",
       "      <td>0</td>\n",
       "      <td>0</td>\n",
       "      <td>0</td>\n",
       "      <td>0</td>\n",
       "      <td>0</td>\n",
       "      <td>0</td>\n",
       "      <td>0</td>\n",
       "    </tr>\n",
       "    <tr>\n",
       "      <th>2</th>\n",
       "      <td>2</td>\n",
       "      <td>AC</td>\n",
       "      <td>Cobra</td>\n",
       "      <td>NaN</td>\n",
       "      <td>109995</td>\n",
       "      <td>''</td>\n",
       "      <td>AC Cobra</td>\n",
       "      <td>MK1V 212 SC. 3.5 V8 350 BHP LOTUS TWIN TURBO. ...</td>\n",
       "      <td>FULL CARBON FIBRE BODY.</td>\n",
       "      <td>2000 (X reg), Convertible, 21,600 miles, 3.5L,...</td>\n",
       "      <td>...</td>\n",
       "      <td>3.0</td>\n",
       "      <td>0</td>\n",
       "      <td>0</td>\n",
       "      <td>0</td>\n",
       "      <td>0</td>\n",
       "      <td>0</td>\n",
       "      <td>0</td>\n",
       "      <td>0</td>\n",
       "      <td>0</td>\n",
       "      <td>0</td>\n",
       "    </tr>\n",
       "    <tr>\n",
       "      <th>3</th>\n",
       "      <td>3</td>\n",
       "      <td>AC</td>\n",
       "      <td>Cobra</td>\n",
       "      <td>NaN</td>\n",
       "      <td>124950</td>\n",
       "      <td>''</td>\n",
       "      <td>AC Cobra</td>\n",
       "      <td>302 MKIV 2dr</td>\n",
       "      <td>ABSOLUTELY STUNNING</td>\n",
       "      <td>1989 (F reg), Convertible, 2,750 miles, Manual...</td>\n",
       "      <td>...</td>\n",
       "      <td>NaN</td>\n",
       "      <td>0</td>\n",
       "      <td>0</td>\n",
       "      <td>0</td>\n",
       "      <td>0</td>\n",
       "      <td>0</td>\n",
       "      <td>0</td>\n",
       "      <td>0</td>\n",
       "      <td>0</td>\n",
       "      <td>0</td>\n",
       "    </tr>\n",
       "    <tr>\n",
       "      <th>4</th>\n",
       "      <td>4</td>\n",
       "      <td>AC</td>\n",
       "      <td>Cobra</td>\n",
       "      <td>NaN</td>\n",
       "      <td>124950</td>\n",
       "      <td>''</td>\n",
       "      <td>AC Cobra</td>\n",
       "      <td>302 MKIV With Factory Lightweight Engine 5.0 2dr</td>\n",
       "      <td>'STAGE 3' SVO ENGINE</td>\n",
       "      <td>1989 (E reg), Convertible, 15,142 miles, 5.0L,...</td>\n",
       "      <td>...</td>\n",
       "      <td>NaN</td>\n",
       "      <td>0</td>\n",
       "      <td>0</td>\n",
       "      <td>0</td>\n",
       "      <td>0</td>\n",
       "      <td>0</td>\n",
       "      <td>0</td>\n",
       "      <td>0</td>\n",
       "      <td>0</td>\n",
       "      <td>0</td>\n",
       "    </tr>\n",
       "  </tbody>\n",
       "</table>\n",
       "<p>5 rows × 32 columns</p>\n",
       "</div>"
      ],
      "text/plain": [
       "   Customer_id make  model variant  car_price car_badges car_title   \n",
       "0            0   AC  Cobra     NaN      89995        NaN  AC Cobra  \\\n",
       "1            1   AC  Cobra     NaN      92500         ''  AC Cobra   \n",
       "2            2   AC  Cobra     NaN     109995         ''  AC Cobra   \n",
       "3            3   AC  Cobra     NaN     124950         ''  AC Cobra   \n",
       "4            4   AC  Cobra     NaN     124950         ''  AC Cobra   \n",
       "\n",
       "                                       car_sub_title   \n",
       "0                                  4.9 MK IV CRS 2dr  \\\n",
       "1                                         378 - MkIV   \n",
       "2  MK1V 212 SC. 3.5 V8 350 BHP LOTUS TWIN TURBO. ...   \n",
       "3                                       302 MKIV 2dr   \n",
       "4   302 MKIV With Factory Lightweight Engine 5.0 2dr   \n",
       "\n",
       "          car_attention_grabber   \n",
       "0  GENUINE AC COBRA CRS 522 BHP  \\\n",
       "1                 PHYSICAL CAR!   \n",
       "2       FULL CARBON FIBRE BODY.   \n",
       "3           ABSOLUTELY STUNNING   \n",
       "4          'STAGE 3' SVO ENGINE   \n",
       "\n",
       "                                           car_specs  ... num_owner  ulez   \n",
       "0  2001 (X reg), Convertible, 14,400 miles, 4.9L,...  ...       5.0     0  \\\n",
       "1  2019 (T reg), Convertible, 650 miles, Manual, ...  ...       NaN     0   \n",
       "2  2000 (X reg), Convertible, 21,600 miles, 3.5L,...  ...       3.0     0   \n",
       "3  1989 (F reg), Convertible, 2,750 miles, Manual...  ...       NaN     0   \n",
       "4  1989 (E reg), Convertible, 15,142 miles, 5.0L,...  ...       NaN     0   \n",
       "\n",
       "  full_service part_service part_warranty full_dealership   \n",
       "0            0            0             0               0  \\\n",
       "1            0            0             0               0   \n",
       "2            0            0             0               0   \n",
       "3            0            0             0               0   \n",
       "4            0            0             0               0   \n",
       "\n",
       "   first_year_road_tax  brand_new  finance_available discounted  \n",
       "0                    0          0                  0          0  \n",
       "1                    0          0                  0          0  \n",
       "2                    0          0                  0          0  \n",
       "3                    0          0                  0          0  \n",
       "4                    0          0                  0          0  \n",
       "\n",
       "[5 rows x 32 columns]"
      ]
     },
     "execution_count": 23,
     "metadata": {},
     "output_type": "execute_result"
    }
   ],
   "source": [
    "dataframe = pd.read_csv('all_car_adverts.csv'  )\n",
    "dataframe.head()"
   ]
  },
  {
   "attachments": {},
   "cell_type": "markdown",
   "metadata": {},
   "source": [
    "# Data Analysis and Preprocessing"
   ]
  },
  {
   "attachments": {},
   "cell_type": "markdown",
   "metadata": {},
   "source": [
    "## Check collumns and shapes in dataframe"
   ]
  },
  {
   "cell_type": "code",
   "execution_count": 24,
   "metadata": {},
   "outputs": [
    {
     "data": {
      "text/plain": [
       "Index(['Customer_id', 'make', 'model', 'variant', 'car_price', 'car_badges',\n",
       "       'car_title', 'car_sub_title', 'car_attention_grabber', 'car_specs',\n",
       "       'car_seller', 'car_seller_rating', 'car_seller_location', 'year', 'reg',\n",
       "       'body_type', 'miles', 'engine_vol', 'engine_size', 'engine_size_unit',\n",
       "       'transmission', 'feul_type', 'num_owner', 'ulez', 'full_service',\n",
       "       'part_service', 'part_warranty', 'full_dealership',\n",
       "       'first_year_road_tax', 'brand_new', 'finance_available', 'discounted'],\n",
       "      dtype='object')"
      ]
     },
     "execution_count": 24,
     "metadata": {},
     "output_type": "execute_result"
    }
   ],
   "source": [
    "dataframe.columns"
   ]
  },
  {
   "attachments": {},
   "cell_type": "markdown",
   "metadata": {},
   "source": [
    "we can drop first column since it does not affect the price."
   ]
  },
  {
   "cell_type": "code",
   "execution_count": 6,
   "metadata": {},
   "outputs": [],
   "source": [
    "dataframe.drop('Customer_id', axis=1, inplace=True)"
   ]
  },
  {
   "cell_type": "code",
   "execution_count": 7,
   "metadata": {},
   "outputs": [
    {
     "name": "stdout",
     "output_type": "stream",
     "text": [
      "There are 818456 rows and 31 columns\n"
     ]
    }
   ],
   "source": [
    "print(\"There are \" + str(dataframe.shape[0]) + \" rows and \" + str(dataframe.shape[1]) + \" columns\")"
   ]
  },
  {
   "attachments": {},
   "cell_type": "markdown",
   "metadata": {},
   "source": [
    "## Describe some basic statistical values"
   ]
  },
  {
   "cell_type": "code",
   "execution_count": 8,
   "metadata": {},
   "outputs": [
    {
     "data": {
      "text/html": [
       "<div>\n",
       "<style scoped>\n",
       "    .dataframe tbody tr th:only-of-type {\n",
       "        vertical-align: middle;\n",
       "    }\n",
       "\n",
       "    .dataframe tbody tr th {\n",
       "        vertical-align: top;\n",
       "    }\n",
       "\n",
       "    .dataframe thead th {\n",
       "        text-align: right;\n",
       "    }\n",
       "</style>\n",
       "<table border=\"1\" class=\"dataframe\">\n",
       "  <thead>\n",
       "    <tr style=\"text-align: right;\">\n",
       "      <th></th>\n",
       "      <th>car_price</th>\n",
       "      <th>car_seller_rating</th>\n",
       "      <th>miles</th>\n",
       "      <th>engine_vol</th>\n",
       "      <th>engine_size</th>\n",
       "      <th>num_owner</th>\n",
       "      <th>ulez</th>\n",
       "      <th>full_service</th>\n",
       "      <th>part_service</th>\n",
       "      <th>part_warranty</th>\n",
       "      <th>full_dealership</th>\n",
       "      <th>first_year_road_tax</th>\n",
       "      <th>brand_new</th>\n",
       "      <th>finance_available</th>\n",
       "      <th>discounted</th>\n",
       "    </tr>\n",
       "  </thead>\n",
       "  <tbody>\n",
       "    <tr>\n",
       "      <th>count</th>\n",
       "      <td>8.184560e+05</td>\n",
       "      <td>644191.000000</td>\n",
       "      <td>763703.000000</td>\n",
       "      <td>803010.000000</td>\n",
       "      <td>814247.000000</td>\n",
       "      <td>442596.000000</td>\n",
       "      <td>818456.000000</td>\n",
       "      <td>818456.000000</td>\n",
       "      <td>818456.000000</td>\n",
       "      <td>818456.000000</td>\n",
       "      <td>818456.000000</td>\n",
       "      <td>818456.000000</td>\n",
       "      <td>818456.000000</td>\n",
       "      <td>818456.000000</td>\n",
       "      <td>818456.000000</td>\n",
       "    </tr>\n",
       "    <tr>\n",
       "      <th>mean</th>\n",
       "      <td>2.011859e+04</td>\n",
       "      <td>4.649465</td>\n",
       "      <td>48735.854328</td>\n",
       "      <td>1.860284</td>\n",
       "      <td>170.134123</td>\n",
       "      <td>2.097290</td>\n",
       "      <td>0.815449</td>\n",
       "      <td>0.108105</td>\n",
       "      <td>0.013059</td>\n",
       "      <td>0.063693</td>\n",
       "      <td>0.035079</td>\n",
       "      <td>0.063693</td>\n",
       "      <td>0.066233</td>\n",
       "      <td>0.716983</td>\n",
       "      <td>0.045162</td>\n",
       "    </tr>\n",
       "    <tr>\n",
       "      <th>std</th>\n",
       "      <td>2.224110e+04</td>\n",
       "      <td>0.433626</td>\n",
       "      <td>36520.141907</td>\n",
       "      <td>0.752763</td>\n",
       "      <td>92.141443</td>\n",
       "      <td>1.265622</td>\n",
       "      <td>0.387933</td>\n",
       "      <td>0.310513</td>\n",
       "      <td>0.113526</td>\n",
       "      <td>0.244206</td>\n",
       "      <td>0.183981</td>\n",
       "      <td>0.244206</td>\n",
       "      <td>0.248690</td>\n",
       "      <td>0.450465</td>\n",
       "      <td>0.207659</td>\n",
       "    </tr>\n",
       "    <tr>\n",
       "      <th>min</th>\n",
       "      <td>3.000000e+02</td>\n",
       "      <td>1.000000</td>\n",
       "      <td>2.000000</td>\n",
       "      <td>0.500000</td>\n",
       "      <td>1.000000</td>\n",
       "      <td>1.000000</td>\n",
       "      <td>0.000000</td>\n",
       "      <td>0.000000</td>\n",
       "      <td>0.000000</td>\n",
       "      <td>0.000000</td>\n",
       "      <td>0.000000</td>\n",
       "      <td>0.000000</td>\n",
       "      <td>0.000000</td>\n",
       "      <td>0.000000</td>\n",
       "      <td>0.000000</td>\n",
       "    </tr>\n",
       "    <tr>\n",
       "      <th>25%</th>\n",
       "      <td>8.990000e+03</td>\n",
       "      <td>4.600000</td>\n",
       "      <td>19441.000000</td>\n",
       "      <td>1.400000</td>\n",
       "      <td>115.000000</td>\n",
       "      <td>1.000000</td>\n",
       "      <td>1.000000</td>\n",
       "      <td>0.000000</td>\n",
       "      <td>0.000000</td>\n",
       "      <td>0.000000</td>\n",
       "      <td>0.000000</td>\n",
       "      <td>0.000000</td>\n",
       "      <td>0.000000</td>\n",
       "      <td>0.000000</td>\n",
       "      <td>0.000000</td>\n",
       "    </tr>\n",
       "    <tr>\n",
       "      <th>50%</th>\n",
       "      <td>1.500000e+04</td>\n",
       "      <td>4.700000</td>\n",
       "      <td>40267.000000</td>\n",
       "      <td>1.600000</td>\n",
       "      <td>148.000000</td>\n",
       "      <td>2.000000</td>\n",
       "      <td>1.000000</td>\n",
       "      <td>0.000000</td>\n",
       "      <td>0.000000</td>\n",
       "      <td>0.000000</td>\n",
       "      <td>0.000000</td>\n",
       "      <td>0.000000</td>\n",
       "      <td>0.000000</td>\n",
       "      <td>1.000000</td>\n",
       "      <td>0.000000</td>\n",
       "    </tr>\n",
       "    <tr>\n",
       "      <th>75%</th>\n",
       "      <td>2.450000e+04</td>\n",
       "      <td>4.900000</td>\n",
       "      <td>71215.500000</td>\n",
       "      <td>2.000000</td>\n",
       "      <td>190.000000</td>\n",
       "      <td>3.000000</td>\n",
       "      <td>1.000000</td>\n",
       "      <td>0.000000</td>\n",
       "      <td>0.000000</td>\n",
       "      <td>0.000000</td>\n",
       "      <td>0.000000</td>\n",
       "      <td>0.000000</td>\n",
       "      <td>0.000000</td>\n",
       "      <td>1.000000</td>\n",
       "      <td>0.000000</td>\n",
       "    </tr>\n",
       "    <tr>\n",
       "      <th>max</th>\n",
       "      <td>3.199830e+06</td>\n",
       "      <td>5.000000</td>\n",
       "      <td>999999.000000</td>\n",
       "      <td>8.300000</td>\n",
       "      <td>2460.000000</td>\n",
       "      <td>32.000000</td>\n",
       "      <td>1.000000</td>\n",
       "      <td>1.000000</td>\n",
       "      <td>1.000000</td>\n",
       "      <td>1.000000</td>\n",
       "      <td>1.000000</td>\n",
       "      <td>1.000000</td>\n",
       "      <td>1.000000</td>\n",
       "      <td>1.000000</td>\n",
       "      <td>1.000000</td>\n",
       "    </tr>\n",
       "  </tbody>\n",
       "</table>\n",
       "</div>"
      ],
      "text/plain": [
       "          car_price  car_seller_rating          miles     engine_vol   \n",
       "count  8.184560e+05      644191.000000  763703.000000  803010.000000  \\\n",
       "mean   2.011859e+04           4.649465   48735.854328       1.860284   \n",
       "std    2.224110e+04           0.433626   36520.141907       0.752763   \n",
       "min    3.000000e+02           1.000000       2.000000       0.500000   \n",
       "25%    8.990000e+03           4.600000   19441.000000       1.400000   \n",
       "50%    1.500000e+04           4.700000   40267.000000       1.600000   \n",
       "75%    2.450000e+04           4.900000   71215.500000       2.000000   \n",
       "max    3.199830e+06           5.000000  999999.000000       8.300000   \n",
       "\n",
       "         engine_size      num_owner           ulez   full_service   \n",
       "count  814247.000000  442596.000000  818456.000000  818456.000000  \\\n",
       "mean      170.134123       2.097290       0.815449       0.108105   \n",
       "std        92.141443       1.265622       0.387933       0.310513   \n",
       "min         1.000000       1.000000       0.000000       0.000000   \n",
       "25%       115.000000       1.000000       1.000000       0.000000   \n",
       "50%       148.000000       2.000000       1.000000       0.000000   \n",
       "75%       190.000000       3.000000       1.000000       0.000000   \n",
       "max      2460.000000      32.000000       1.000000       1.000000   \n",
       "\n",
       "        part_service  part_warranty  full_dealership  first_year_road_tax   \n",
       "count  818456.000000  818456.000000    818456.000000        818456.000000  \\\n",
       "mean        0.013059       0.063693         0.035079             0.063693   \n",
       "std         0.113526       0.244206         0.183981             0.244206   \n",
       "min         0.000000       0.000000         0.000000             0.000000   \n",
       "25%         0.000000       0.000000         0.000000             0.000000   \n",
       "50%         0.000000       0.000000         0.000000             0.000000   \n",
       "75%         0.000000       0.000000         0.000000             0.000000   \n",
       "max         1.000000       1.000000         1.000000             1.000000   \n",
       "\n",
       "           brand_new  finance_available     discounted  \n",
       "count  818456.000000      818456.000000  818456.000000  \n",
       "mean        0.066233           0.716983       0.045162  \n",
       "std         0.248690           0.450465       0.207659  \n",
       "min         0.000000           0.000000       0.000000  \n",
       "25%         0.000000           0.000000       0.000000  \n",
       "50%         0.000000           1.000000       0.000000  \n",
       "75%         0.000000           1.000000       0.000000  \n",
       "max         1.000000           1.000000       1.000000  "
      ]
     },
     "execution_count": 8,
     "metadata": {},
     "output_type": "execute_result"
    }
   ],
   "source": [
    "dataframe.describe()"
   ]
  },
  {
   "attachments": {},
   "cell_type": "markdown",
   "metadata": {},
   "source": [
    "## Describe summary of data frame "
   ]
  },
  {
   "cell_type": "code",
   "execution_count": 6,
   "metadata": {},
   "outputs": [
    {
     "name": "stdout",
     "output_type": "stream",
     "text": [
      "<class 'pandas.core.frame.DataFrame'>\n",
      "RangeIndex: 818456 entries, 0 to 818455\n",
      "Data columns (total 32 columns):\n",
      " #   Column                 Non-Null Count   Dtype  \n",
      "---  ------                 --------------   -----  \n",
      " 0   Customer_Id            818456 non-null  int64  \n",
      " 1   make                   818456 non-null  object \n",
      " 2   model                  818153 non-null  object \n",
      " 3   variant                816207 non-null  object \n",
      " 4   car_price              818456 non-null  int64  \n",
      " 5   car_badges             801459 non-null  object \n",
      " 6   car_title              818456 non-null  object \n",
      " 7   car_sub_title          817909 non-null  object \n",
      " 8   car_attention_grabber  738163 non-null  object \n",
      " 9   car_specs              818456 non-null  object \n",
      " 10  car_seller             818348 non-null  object \n",
      " 11  car_seller_rating      644191 non-null  float64\n",
      " 12  car_seller_location    816256 non-null  object \n",
      " 13  year                   818456 non-null  object \n",
      " 14  reg                    747436 non-null  object \n",
      " 15  body_type              817744 non-null  object \n",
      " 16  miles                  763703 non-null  float64\n",
      " 17  engine_vol             803010 non-null  float64\n",
      " 18  engine_size            814247 non-null  float64\n",
      " 19  engine_size_unit       814247 non-null  object \n",
      " 20  transmission           818243 non-null  object \n",
      " 21  feul_type              818234 non-null  object \n",
      " 22  num_owner              442596 non-null  float64\n",
      " 23  ulez                   818456 non-null  int64  \n",
      " 24  full_service           818456 non-null  int64  \n",
      " 25  part_service           818456 non-null  int64  \n",
      " 26  part_warranty          818456 non-null  int64  \n",
      " 27  full_dealership        818456 non-null  int64  \n",
      " 28  first_year_road_tax    818456 non-null  int64  \n",
      " 29  brand_new              818456 non-null  int64  \n",
      " 30  finance_available      818456 non-null  int64  \n",
      " 31  discounted             818456 non-null  int64  \n",
      "dtypes: float64(5), int64(11), object(16)\n",
      "memory usage: 199.8+ MB\n"
     ]
    }
   ],
   "source": [
    "dataframe.info()"
   ]
  },
  {
   "attachments": {},
   "cell_type": "markdown",
   "metadata": {},
   "source": [
    "## Handling outliers"
   ]
  },
  {
   "cell_type": "code",
   "execution_count": 25,
   "metadata": {},
   "outputs": [
    {
     "data": {
      "text/html": [
       "<div>\n",
       "<style scoped>\n",
       "    .dataframe tbody tr th:only-of-type {\n",
       "        vertical-align: middle;\n",
       "    }\n",
       "\n",
       "    .dataframe tbody tr th {\n",
       "        vertical-align: top;\n",
       "    }\n",
       "\n",
       "    .dataframe thead th {\n",
       "        text-align: right;\n",
       "    }\n",
       "</style>\n",
       "<table border=\"1\" class=\"dataframe\">\n",
       "  <thead>\n",
       "    <tr style=\"text-align: right;\">\n",
       "      <th></th>\n",
       "      <th>Customer_id</th>\n",
       "      <th>car_price</th>\n",
       "      <th>car_seller_rating</th>\n",
       "      <th>miles</th>\n",
       "      <th>engine_vol</th>\n",
       "      <th>engine_size</th>\n",
       "      <th>num_owner</th>\n",
       "      <th>ulez</th>\n",
       "      <th>full_service</th>\n",
       "      <th>part_service</th>\n",
       "      <th>part_warranty</th>\n",
       "      <th>full_dealership</th>\n",
       "      <th>first_year_road_tax</th>\n",
       "      <th>brand_new</th>\n",
       "      <th>finance_available</th>\n",
       "      <th>discounted</th>\n",
       "    </tr>\n",
       "  </thead>\n",
       "  <tbody>\n",
       "    <tr>\n",
       "      <th>0</th>\n",
       "      <td>0</td>\n",
       "      <td>89995</td>\n",
       "      <td>NaN</td>\n",
       "      <td>14400.0</td>\n",
       "      <td>4.9</td>\n",
       "      <td>225.0</td>\n",
       "      <td>5.0</td>\n",
       "      <td>0</td>\n",
       "      <td>0</td>\n",
       "      <td>0</td>\n",
       "      <td>0</td>\n",
       "      <td>0</td>\n",
       "      <td>0</td>\n",
       "      <td>0</td>\n",
       "      <td>0</td>\n",
       "      <td>0</td>\n",
       "    </tr>\n",
       "    <tr>\n",
       "      <th>1</th>\n",
       "      <td>1</td>\n",
       "      <td>92500</td>\n",
       "      <td>5.0</td>\n",
       "      <td>650.0</td>\n",
       "      <td>NaN</td>\n",
       "      <td>NaN</td>\n",
       "      <td>NaN</td>\n",
       "      <td>0</td>\n",
       "      <td>0</td>\n",
       "      <td>0</td>\n",
       "      <td>0</td>\n",
       "      <td>0</td>\n",
       "      <td>0</td>\n",
       "      <td>0</td>\n",
       "      <td>0</td>\n",
       "      <td>0</td>\n",
       "    </tr>\n",
       "    <tr>\n",
       "      <th>2</th>\n",
       "      <td>2</td>\n",
       "      <td>109995</td>\n",
       "      <td>4.8</td>\n",
       "      <td>21600.0</td>\n",
       "      <td>3.5</td>\n",
       "      <td>NaN</td>\n",
       "      <td>3.0</td>\n",
       "      <td>0</td>\n",
       "      <td>0</td>\n",
       "      <td>0</td>\n",
       "      <td>0</td>\n",
       "      <td>0</td>\n",
       "      <td>0</td>\n",
       "      <td>0</td>\n",
       "      <td>0</td>\n",
       "      <td>0</td>\n",
       "    </tr>\n",
       "    <tr>\n",
       "      <th>3</th>\n",
       "      <td>3</td>\n",
       "      <td>124950</td>\n",
       "      <td>5.0</td>\n",
       "      <td>2750.0</td>\n",
       "      <td>NaN</td>\n",
       "      <td>NaN</td>\n",
       "      <td>NaN</td>\n",
       "      <td>0</td>\n",
       "      <td>0</td>\n",
       "      <td>0</td>\n",
       "      <td>0</td>\n",
       "      <td>0</td>\n",
       "      <td>0</td>\n",
       "      <td>0</td>\n",
       "      <td>0</td>\n",
       "      <td>0</td>\n",
       "    </tr>\n",
       "    <tr>\n",
       "      <th>4</th>\n",
       "      <td>4</td>\n",
       "      <td>124950</td>\n",
       "      <td>5.0</td>\n",
       "      <td>15142.0</td>\n",
       "      <td>5.0</td>\n",
       "      <td>NaN</td>\n",
       "      <td>NaN</td>\n",
       "      <td>0</td>\n",
       "      <td>0</td>\n",
       "      <td>0</td>\n",
       "      <td>0</td>\n",
       "      <td>0</td>\n",
       "      <td>0</td>\n",
       "      <td>0</td>\n",
       "      <td>0</td>\n",
       "      <td>0</td>\n",
       "    </tr>\n",
       "  </tbody>\n",
       "</table>\n",
       "</div>"
      ],
      "text/plain": [
       "   Customer_id  car_price  car_seller_rating    miles  engine_vol   \n",
       "0            0      89995                NaN  14400.0         4.9  \\\n",
       "1            1      92500                5.0    650.0         NaN   \n",
       "2            2     109995                4.8  21600.0         3.5   \n",
       "3            3     124950                5.0   2750.0         NaN   \n",
       "4            4     124950                5.0  15142.0         5.0   \n",
       "\n",
       "   engine_size  num_owner  ulez  full_service  part_service  part_warranty   \n",
       "0        225.0        5.0     0             0             0              0  \\\n",
       "1          NaN        NaN     0             0             0              0   \n",
       "2          NaN        3.0     0             0             0              0   \n",
       "3          NaN        NaN     0             0             0              0   \n",
       "4          NaN        NaN     0             0             0              0   \n",
       "\n",
       "   full_dealership  first_year_road_tax  brand_new  finance_available   \n",
       "0                0                    0          0                  0  \\\n",
       "1                0                    0          0                  0   \n",
       "2                0                    0          0                  0   \n",
       "3                0                    0          0                  0   \n",
       "4                0                    0          0                  0   \n",
       "\n",
       "   discounted  \n",
       "0           0  \n",
       "1           0  \n",
       "2           0  \n",
       "3           0  \n",
       "4           0  "
      ]
     },
     "execution_count": 25,
     "metadata": {},
     "output_type": "execute_result"
    }
   ],
   "source": [
    "train_outliers=dataframe.select_dtypes(include=['int', 'float'])\n",
    "train_outliers.head()\n"
   ]
  },
  {
   "cell_type": "code",
   "execution_count": 26,
   "metadata": {},
   "outputs": [
    {
     "name": "stdout",
     "output_type": "stream",
     "text": [
      "NUmber of outliers in Customer_id is : 0\n",
      "NUmber of outliers in car_price is : 50585\n",
      "NUmber of outliers in car_seller_rating is : 50793\n",
      "NUmber of outliers in miles is : 9350\n",
      "NUmber of outliers in engine_vol is : 96139\n",
      "NUmber of outliers in engine_size is : 66498\n",
      "NUmber of outliers in num_owner is : 3856\n",
      "NUmber of outliers in ulez is : 151047\n",
      "NUmber of outliers in full_service is : 88479\n",
      "NUmber of outliers in part_service is : 10688\n",
      "NUmber of outliers in part_warranty is : 52130\n",
      "NUmber of outliers in full_dealership is : 28711\n",
      "NUmber of outliers in first_year_road_tax is : 52130\n",
      "NUmber of outliers in brand_new is : 54209\n",
      "NUmber of outliers in finance_available is : 0\n",
      "NUmber of outliers in discounted is : 36963\n"
     ]
    }
   ],
   "source": [
    "for col in train_outliers:\n",
    "    q1 = train_outliers[col].quantile(0.25)\n",
    "    q3 = train_outliers[col].quantile(0.75)\n",
    "    iqr = q3 - q1\n",
    "    range_low = q1 - 1.5 * iqr\n",
    "    range_high = q3 + 1.5 * iqr\n",
    "    outliers = train_outliers[(train_outliers[col] < range_low) | (train_outliers[col] > range_high)]\n",
    "    print(\"NUmber of outliers in \" + str(col) + \" is : \" + str(len(outliers)))\n",
    "    "
   ]
  },
  {
   "attachments": {},
   "cell_type": "markdown",
   "metadata": {},
   "source": [
    "Display the distribution of values in each column of a dataset and highlight outliers by boxplot chart"
   ]
  },
  {
   "cell_type": "code",
   "execution_count": 27,
   "metadata": {},
   "outputs": [
    {
     "data": {
      "image/png": "[encoded data removed]",
      "text/plain": [
       "<Figure size 200x100 with 1 Axes>"
      ]
     },
     "metadata": {},
     "output_type": "display_data"
    },
    {
     "data": {
      "image/png": "[encoded data removed]",
      "text/plain": [
       "<Figure size 200x100 with 1 Axes>"
      ]
     },
     "metadata": {},
     "output_type": "display_data"
    },
    {
     "data": {
      "image/png": "[encoded data removed]",
      "text/plain": [
       "<Figure size 200x100 with 1 Axes>"
      ]
     },
     "metadata": {},
     "output_type": "display_data"
    },
    {
     "data": {
      "image/png": "[encoded data removed]",
      "text/plain": [
       "<Figure size 200x100 with 1 Axes>"
      ]
     },
     "metadata": {},
     "output_type": "display_data"
    },
    {
     "data": {
      "image/png": "[encoded data removed]",
      "text/plain": [
       "<Figure size 200x100 with 1 Axes>"
      ]
     },
     "metadata": {},
     "output_type": "display_data"
    },
    {
     "data": {
      "image/png": "[encoded data removed]",
      "text/plain": [
       "<Figure size 200x100 with 1 Axes>"
      ]
     },
     "metadata": {},
     "output_type": "display_data"
    },
    {
     "data": {
      "image/png": "[encoded data removed]",
      "text/plain": [
       "<Figure size 200x100 with 1 Axes>"
      ]
     },
     "metadata": {},
     "output_type": "display_data"
    },
    {
     "data": {
      "image/png": "[encoded data removed]",
      "text/plain": [
       "<Figure size 200x100 with 1 Axes>"
      ]
     },
     "metadata": {},
     "output_type": "display_data"
    },
    {
     "data": {
      "image/png": "[encoded data removed]",
      "text/plain": [
       "<Figure size 200x100 with 1 Axes>"
      ]
     },
     "metadata": {},
     "output_type": "display_data"
    },
    {
     "data": {
      "image/png": "[encoded data removed]",
      "text/plain": [
       "<Figure size 200x100 with 1 Axes>"
      ]
     },
     "metadata": {},
     "output_type": "display_data"
    },
    {
     "data": {
      "image/png": "[encoded data removed]",
      "text/plain": [
       "<Figure size 200x100 with 1 Axes>"
      ]
     },
     "metadata": {},
     "output_type": "display_data"
    },
    {
     "data": {
      "image/png": "[encoded data removed]",
      "text/plain": [
       "<Figure size 200x100 with 1 Axes>"
      ]
     },
     "metadata": {},
     "output_type": "display_data"
    },
    {
     "data": {
      "image/png": "[encoded data removed]",
      "text/plain": [
       "<Figure size 200x100 with 1 Axes>"
      ]
     },
     "metadata": {},
     "output_type": "display_data"
    },
    {
     "data": {
      "image/png": "[encoded data removed]",
      "text/plain": [
       "<Figure size 200x100 with 1 Axes>"
      ]
     },
     "metadata": {},
     "output_type": "display_data"
    },
    {
     "data": {
      "image/png": "[encoded data removed]",
      "text/plain": [
       "<Figure size 200x100 with 1 Axes>"
      ]
     },
     "metadata": {},
     "output_type": "display_data"
    },
    {
     "data": {
      "image/png": "[encoded data removed]",
      "text/plain": [
       "<Figure size 200x100 with 1 Axes>"
      ]
     },
     "metadata": {},
     "output_type": "display_data"
    }
   ],
   "source": [
    "\n",
    "for col in train_outliers:\n",
    "    plt.figure(figsize=(2,1))\n",
    "    sns.boxplot(x=train_outliers[col], whis=1.5)\n",
    "    plt.title(col)\n",
    "    plt.show()"
   ]
  },
  {
   "attachments": {},
   "cell_type": "markdown",
   "metadata": {},
   "source": [
    "Replace all outliers"
   ]
  },
  {
   "cell_type": "code",
   "execution_count": 9,
   "metadata": {},
   "outputs": [
    {
     "name": "stdout",
     "output_type": "stream",
     "text": [
      "NUmber of outliers in Customer_Id is : 0\n",
      "NUmber of outliers in car_price is : 0\n",
      "NUmber of outliers in car_seller_rating is : 0\n",
      "NUmber of outliers in miles is : 0\n",
      "NUmber of outliers in engine_vol is : 0\n",
      "NUmber of outliers in engine_size is : 0\n",
      "NUmber of outliers in num_owner is : 0\n",
      "NUmber of outliers in ulez is : 0\n",
      "NUmber of outliers in full_service is : 0\n",
      "NUmber of outliers in part_service is : 0\n",
      "NUmber of outliers in part_warranty is : 0\n",
      "NUmber of outliers in full_dealership is : 0\n",
      "NUmber of outliers in first_year_road_tax is : 0\n",
      "NUmber of outliers in brand_new is : 0\n",
      "NUmber of outliers in finance_available is : 0\n",
      "NUmber of outliers in discounted is : 0\n"
     ]
    }
   ],
   "source": [
    "for col in train_outliers:\n",
    "    q1 = train_outliers[col].quantile(0.25)\n",
    "    q3 = train_outliers[col].quantile(0.75)\n",
    "    iqr = q3 - q1\n",
    "    range_low = q1 - 1.5 * iqr\n",
    "    range_high = q3 + 1.5 * iqr\n",
    "    train_outliers = train_outliers[(train_outliers[col] >= range_low) & (train_outliers[col] <= range_high)]\n",
    "\n",
    "    outliers = train_outliers[(train_outliers[col] < range_low) | (train_outliers[col] > range_high)]\n",
    "    print(\"NUmber of outliers in \" + str(col) + \" is : \" + str(len(outliers)))"
   ]
  },
  {
   "attachments": {},
   "cell_type": "markdown",
   "metadata": {},
   "source": [
    "## Checking Data Imbalance *"
   ]
  },
  {
   "cell_type": "code",
   "execution_count": 45,
   "metadata": {},
   "outputs": [
    {
     "data": {
      "text/html": [
       "<div>\n",
       "<style scoped>\n",
       "    .dataframe tbody tr th:only-of-type {\n",
       "        vertical-align: middle;\n",
       "    }\n",
       "\n",
       "    .dataframe tbody tr th {\n",
       "        vertical-align: top;\n",
       "    }\n",
       "\n",
       "    .dataframe thead th {\n",
       "        text-align: right;\n",
       "    }\n",
       "</style>\n",
       "<table border=\"1\" class=\"dataframe\">\n",
       "  <thead>\n",
       "    <tr style=\"text-align: right;\">\n",
       "      <th></th>\n",
       "      <th>make</th>\n",
       "      <th>model</th>\n",
       "      <th>variant</th>\n",
       "      <th>car_badges</th>\n",
       "      <th>car_title</th>\n",
       "      <th>car_sub_title</th>\n",
       "      <th>car_attention_grabber</th>\n",
       "      <th>car_specs</th>\n",
       "      <th>car_seller</th>\n",
       "      <th>car_seller_location</th>\n",
       "      <th>year</th>\n",
       "      <th>reg</th>\n",
       "      <th>body_type</th>\n",
       "      <th>engine_size_unit</th>\n",
       "      <th>transmission</th>\n",
       "      <th>feul_type</th>\n",
       "    </tr>\n",
       "  </thead>\n",
       "  <tbody>\n",
       "    <tr>\n",
       "      <th>0</th>\n",
       "      <td>AC</td>\n",
       "      <td>Cobra</td>\n",
       "      <td>NaN</td>\n",
       "      <td>NaN</td>\n",
       "      <td>AC Cobra</td>\n",
       "      <td>4.9 MK IV CRS 2dr</td>\n",
       "      <td>GENUINE AC COBRA CRS 522 BHP</td>\n",
       "      <td>2001 (X reg), Convertible, 14,400 miles, 4.9L,...</td>\n",
       "      <td>Private seller</td>\n",
       "      <td>watford</td>\n",
       "      <td>2001</td>\n",
       "      <td>X reg</td>\n",
       "      <td>convertible</td>\n",
       "      <td>bhp</td>\n",
       "      <td>manual</td>\n",
       "      <td>petrol</td>\n",
       "    </tr>\n",
       "    <tr>\n",
       "      <th>1</th>\n",
       "      <td>AC</td>\n",
       "      <td>Cobra</td>\n",
       "      <td>NaN</td>\n",
       "      <td>''</td>\n",
       "      <td>AC Cobra</td>\n",
       "      <td>378 - MkIV</td>\n",
       "      <td>PHYSICAL CAR!</td>\n",
       "      <td>2019 (T reg), Convertible, 650 miles, Manual, ...</td>\n",
       "      <td>Boss Motor Company Limited</td>\n",
       "      <td>chesham</td>\n",
       "      <td>2019</td>\n",
       "      <td>T reg</td>\n",
       "      <td>convertible</td>\n",
       "      <td>NaN</td>\n",
       "      <td>manual</td>\n",
       "      <td>petrol</td>\n",
       "    </tr>\n",
       "    <tr>\n",
       "      <th>2</th>\n",
       "      <td>AC</td>\n",
       "      <td>Cobra</td>\n",
       "      <td>NaN</td>\n",
       "      <td>''</td>\n",
       "      <td>AC Cobra</td>\n",
       "      <td>MK1V 212 SC. 3.5 V8 350 BHP LOTUS TWIN TURBO. ...</td>\n",
       "      <td>FULL CARBON FIBRE BODY.</td>\n",
       "      <td>2000 (X reg), Convertible, 21,600 miles, 3.5L,...</td>\n",
       "      <td>PREMIER GT LIMITED</td>\n",
       "      <td>pulborough</td>\n",
       "      <td>2000</td>\n",
       "      <td>X reg</td>\n",
       "      <td>convertible</td>\n",
       "      <td>NaN</td>\n",
       "      <td>manual</td>\n",
       "      <td>petrol</td>\n",
       "    </tr>\n",
       "    <tr>\n",
       "      <th>3</th>\n",
       "      <td>AC</td>\n",
       "      <td>Cobra</td>\n",
       "      <td>NaN</td>\n",
       "      <td>''</td>\n",
       "      <td>AC Cobra</td>\n",
       "      <td>302 MKIV 2dr</td>\n",
       "      <td>ABSOLUTELY STUNNING</td>\n",
       "      <td>1989 (F reg), Convertible, 2,750 miles, Manual...</td>\n",
       "      <td>TOP 555 LIMITED</td>\n",
       "      <td>oakham</td>\n",
       "      <td>1989</td>\n",
       "      <td>F reg</td>\n",
       "      <td>convertible</td>\n",
       "      <td>NaN</td>\n",
       "      <td>manual</td>\n",
       "      <td>petrol</td>\n",
       "    </tr>\n",
       "    <tr>\n",
       "      <th>4</th>\n",
       "      <td>AC</td>\n",
       "      <td>Cobra</td>\n",
       "      <td>NaN</td>\n",
       "      <td>''</td>\n",
       "      <td>AC Cobra</td>\n",
       "      <td>302 MKIV With Factory Lightweight Engine 5.0 2dr</td>\n",
       "      <td>'STAGE 3' SVO ENGINE</td>\n",
       "      <td>1989 (E reg), Convertible, 15,142 miles, 5.0L,...</td>\n",
       "      <td>TOP 555 LIMITED</td>\n",
       "      <td>oakham</td>\n",
       "      <td>1989</td>\n",
       "      <td>E reg</td>\n",
       "      <td>convertible</td>\n",
       "      <td>NaN</td>\n",
       "      <td>manual</td>\n",
       "      <td>petrol</td>\n",
       "    </tr>\n",
       "  </tbody>\n",
       "</table>\n",
       "</div>"
      ],
      "text/plain": [
       "  make  model variant car_badges car_title   \n",
       "0   AC  Cobra     NaN        NaN  AC Cobra  \\\n",
       "1   AC  Cobra     NaN         ''  AC Cobra   \n",
       "2   AC  Cobra     NaN         ''  AC Cobra   \n",
       "3   AC  Cobra     NaN         ''  AC Cobra   \n",
       "4   AC  Cobra     NaN         ''  AC Cobra   \n",
       "\n",
       "                                       car_sub_title   \n",
       "0                                  4.9 MK IV CRS 2dr  \\\n",
       "1                                         378 - MkIV   \n",
       "2  MK1V 212 SC. 3.5 V8 350 BHP LOTUS TWIN TURBO. ...   \n",
       "3                                       302 MKIV 2dr   \n",
       "4   302 MKIV With Factory Lightweight Engine 5.0 2dr   \n",
       "\n",
       "          car_attention_grabber   \n",
       "0  GENUINE AC COBRA CRS 522 BHP  \\\n",
       "1                 PHYSICAL CAR!   \n",
       "2       FULL CARBON FIBRE BODY.   \n",
       "3           ABSOLUTELY STUNNING   \n",
       "4          'STAGE 3' SVO ENGINE   \n",
       "\n",
       "                                           car_specs   \n",
       "0  2001 (X reg), Convertible, 14,400 miles, 4.9L,...  \\\n",
       "1  2019 (T reg), Convertible, 650 miles, Manual, ...   \n",
       "2  2000 (X reg), Convertible, 21,600 miles, 3.5L,...   \n",
       "3  1989 (F reg), Convertible, 2,750 miles, Manual...   \n",
       "4  1989 (E reg), Convertible, 15,142 miles, 5.0L,...   \n",
       "\n",
       "                   car_seller car_seller_location  year    reg    body_type   \n",
       "0              Private seller             watford  2001  X reg  convertible  \\\n",
       "1  Boss Motor Company Limited             chesham  2019  T reg  convertible   \n",
       "2          PREMIER GT LIMITED          pulborough  2000  X reg  convertible   \n",
       "3             TOP 555 LIMITED              oakham  1989  F reg  convertible   \n",
       "4             TOP 555 LIMITED              oakham  1989  E reg  convertible   \n",
       "\n",
       "  engine_size_unit transmission feul_type  \n",
       "0              bhp       manual    petrol  \n",
       "1              NaN       manual    petrol  \n",
       "2              NaN       manual    petrol  \n",
       "3              NaN       manual    petrol  \n",
       "4              NaN       manual    petrol  "
      ]
     },
     "execution_count": 45,
     "metadata": {},
     "output_type": "execute_result"
    }
   ],
   "source": [
    "train_data_imbalance=dataframe.select_dtypes(include=['object'])\n",
    "train_data_imbalance.head()\n"
   ]
  },
  {
   "attachments": {},
   "cell_type": "markdown",
   "metadata": {},
   "source": []
  },
  {
   "cell_type": "code",
   "execution_count": 46,
   "metadata": {},
   "outputs": [],
   "source": [
    "train_data_imbalance.drop(['car_attention_grabber' ,'car_sub_title' ,'car_seller' ,'car_seller_location' ,'reg'], axis=1, inplace=True)"
   ]
  },
  {
   "cell_type": "code",
   "execution_count": null,
   "metadata": {},
   "outputs": [],
   "source": [
    "k=0\n",
    "plt.figure(figsize=(20,25))\n",
    "for col in train_data_imbalance:    \n",
    "    k=k+1\n",
    "    plt.subplot(4, 3,k)    \n",
    "    train_data_imbalance[col].value_counts().plot(kind='bar')\n",
    "    plt.title(col)"
   ]
  },
  {
   "attachments": {},
   "cell_type": "markdown",
   "metadata": {},
   "source": [
    "## Handle missing value"
   ]
  },
  {
   "cell_type": "code",
   "execution_count": 28,
   "metadata": {},
   "outputs": [
    {
     "data": {
      "text/plain": [
       "['model',\n",
       " 'variant',\n",
       " 'car_badges',\n",
       " 'car_sub_title',\n",
       " 'car_attention_grabber',\n",
       " 'car_seller',\n",
       " 'car_seller_rating',\n",
       " 'car_seller_location',\n",
       " 'reg',\n",
       " 'body_type',\n",
       " 'miles',\n",
       " 'engine_vol',\n",
       " 'engine_size',\n",
       " 'engine_size_unit',\n",
       " 'transmission',\n",
       " 'feul_type',\n",
       " 'num_owner']"
      ]
     },
     "execution_count": 28,
     "metadata": {},
     "output_type": "execute_result"
    }
   ],
   "source": [
    "dataframe.columns[dataframe.isna().any()].tolist()"
   ]
  },
  {
   "cell_type": "code",
   "execution_count": 29,
   "metadata": {},
   "outputs": [],
   "source": [
    "train_missings = dataframe.filter(['model',\n",
    " 'variant',\n",
    " 'car_badges',\n",
    " 'car_sub_title',\n",
    " 'car_attention_grabber',\n",
    " 'car_seller',\n",
    " 'car_seller_rating',\n",
    " 'car_seller_location',\n",
    " 'reg',\n",
    " 'body_type',\n",
    " 'miles',\n",
    " 'engine_vol',\n",
    " 'engine_size',\n",
    " 'engine_size_unit',\n",
    " 'transmission',\n",
    " 'feul_type',\n",
    " 'num_owner'] ,axis=1)"
   ]
  },
  {
   "cell_type": "code",
   "execution_count": 30,
   "metadata": {},
   "outputs": [
    {
     "name": "stdout",
     "output_type": "stream",
     "text": [
      "Missing-value rate of train data:\n",
      "model                     0.037021\n",
      "variant                   0.274786\n",
      "car_badges                2.076715\n",
      "car_sub_title             0.066833\n",
      "car_attention_grabber     9.810301\n",
      "car_seller                0.013196\n",
      "car_seller_rating        21.291920\n",
      "car_seller_location       0.268799\n",
      "reg                       8.677314\n",
      "body_type                 0.086993\n",
      "miles                     6.689792\n",
      "engine_vol                1.887212\n",
      "engine_size               0.514261\n",
      "engine_size_unit          0.514261\n",
      "transmission              0.026025\n",
      "feul_type                 0.027124\n",
      "num_owner                45.923055\n",
      "dtype: float64\n"
     ]
    }
   ],
   "source": [
    "print(\"Missing-value rate of train data:\")\n",
    "mis_val_train = train_missings.isnull().sum() / len(train_missings) * 100\n",
    "print(mis_val_train)"
   ]
  },
  {
   "attachments": {},
   "cell_type": "markdown",
   "metadata": {},
   "source": [
    "Because the missing-value rate of 'num_owner' and 'car_seller_rating' is high so we can drop these 2 columns to reduce errors"
   ]
  },
  {
   "cell_type": "code",
   "execution_count": null,
   "metadata": {},
   "outputs": [],
   "source": [
    "dataframe.drop(['car_attention_grabber' ,'car_seller_rating' ,'num_owner' ,'miles' ,'reg'] ,axis=1 ,inplace=True)"
   ]
  },
  {
   "attachments": {},
   "cell_type": "markdown",
   "metadata": {},
   "source": []
  },
  {
   "cell_type": "code",
   "execution_count": 38,
   "metadata": {},
   "outputs": [
    {
     "name": "stdout",
     "output_type": "stream",
     "text": [
      "Missing-value rate of train data:\n",
      "model                    0.037021\n",
      "variant                  0.274786\n",
      "car_badges               2.076715\n",
      "car_sub_title            0.066833\n",
      "car_attention_grabber    9.810301\n",
      "car_seller               0.013196\n",
      "car_seller_location      0.268799\n",
      "reg                      8.677314\n",
      "body_type                0.086993\n",
      "engine_vol               1.887212\n",
      "engine_size              0.514261\n",
      "engine_size_unit         0.514261\n",
      "transmission             0.026025\n",
      "feul_type                0.027124\n",
      "dtype: float64\n"
     ]
    }
   ],
   "source": [
    "dataframe.columns[dataframe.isna().any()].tolist()\n",
    "train_missings = dataframe.filter(['model',\n",
    " 'variant',\n",
    " 'car_badges',\n",
    " 'car_sub_title',\n",
    " 'car_attention_grabber',\n",
    " 'car_seller',\n",
    " 'car_seller_location',\n",
    " 'reg',\n",
    " 'body_type',\n",
    " 'engine_vol',\n",
    " 'engine_size',\n",
    " 'engine_size_unit',\n",
    " 'transmission',\n",
    " 'feul_type'] ,axis=1)\n",
    "print(\"Missing-value rate of train data:\")\n",
    "mis_val_train = train_missings.isnull().sum() / len(train_missings) * 100\n",
    "print(mis_val_train)\n"
   ]
  },
  {
   "attachments": {},
   "cell_type": "markdown",
   "metadata": {},
   "source": [
    "We will replace all NaN value by their means ,then recheck"
   ]
  },
  {
   "cell_type": "code",
   "execution_count": 56,
   "metadata": {},
   "outputs": [
    {
     "data": {
      "text/plain": [
       "[]"
      ]
     },
     "execution_count": 56,
     "metadata": {},
     "output_type": "execute_result"
    }
   ],
   "source": [
    "from sklearn.impute import SimpleImputer\n",
    "imputer = SimpleImputer(strategy='mean')\n",
    "X_imputed = imputer.fit_transform(dataframe)\n",
    "dataframe.columns[dataframe.isna().any()].tolist()"
   ]
  },
  {
   "attachments": {},
   "cell_type": "markdown",
   "metadata": {},
   "source": [
    "Because their are 2 remaining columns contain NaN values so we will handle them"
   ]
  },
  {
   "cell_type": "code",
   "execution_count": null,
   "metadata": {},
   "outputs": [],
   "source": [
    "median_value = dataframe['engine_vol'].median()\n",
    "dataframe['engine_vol'].fillna(value=median_value, inplace=True)\n",
    "median_value = dataframe['engine_size'].median()\n",
    "dataframe['engine_size'].fillna(value=median_value, inplace=True)"
   ]
  },
  {
   "attachments": {},
   "cell_type": "markdown",
   "metadata": {},
   "source": [
    "Checking missing data again"
   ]
  },
  {
   "cell_type": "code",
   "execution_count": null,
   "metadata": {},
   "outputs": [],
   "source": [
    "dataframe.columns[dataframe.isna().any()].tolist()"
   ]
  },
  {
   "attachments": {},
   "cell_type": "markdown",
   "metadata": {},
   "source": [
    "All NaN values have been handled ,so we have done this step"
   ]
  },
  {
   "attachments": {},
   "cell_type": "markdown",
   "metadata": {},
   "source": [
    "## Encoding labels"
   ]
  },
  {
   "cell_type": "code",
   "execution_count": 41,
   "metadata": {},
   "outputs": [
    {
     "name": "stdout",
     "output_type": "stream",
     "text": [
      "<class 'pandas.core.frame.DataFrame'>\n",
      "RangeIndex: 818456 entries, 0 to 818455\n",
      "Data columns (total 16 columns):\n",
      " #   Column                 Non-Null Count   Dtype \n",
      "---  ------                 --------------   ----- \n",
      " 0   make                   818456 non-null  object\n",
      " 1   model                  818153 non-null  object\n",
      " 2   variant                816207 non-null  object\n",
      " 3   car_badges             801459 non-null  object\n",
      " 4   car_title              818456 non-null  object\n",
      " 5   car_sub_title          817909 non-null  object\n",
      " 6   car_attention_grabber  738163 non-null  object\n",
      " 7   car_specs              818456 non-null  object\n",
      " 8   car_seller             818348 non-null  object\n",
      " 9   car_seller_location    816256 non-null  object\n",
      " 10  year                   818456 non-null  object\n",
      " 11  reg                    747436 non-null  object\n",
      " 12  body_type              817744 non-null  object\n",
      " 13  engine_size_unit       814247 non-null  object\n",
      " 14  transmission           818243 non-null  object\n",
      " 15  feul_type              818234 non-null  object\n",
      "dtypes: object(16)\n",
      "memory usage: 99.9+ MB\n"
     ]
    }
   ],
   "source": [
    "\n",
    "encoding_col = dataframe.select_dtypes(include='object')\n",
    "encoding_col.info()\n"
   ]
  },
  {
   "cell_type": "code",
   "execution_count": 42,
   "metadata": {},
   "outputs": [
    {
     "name": "stdout",
     "output_type": "stream",
     "text": [
      "<class 'pandas.core.frame.DataFrame'>\n",
      "RangeIndex: 818456 entries, 0 to 818455\n",
      "Data columns (total 29 columns):\n",
      " #   Column                 Non-Null Count   Dtype  \n",
      "---  ------                 --------------   -----  \n",
      " 0   Customer_id            818456 non-null  int64  \n",
      " 1   make                   818456 non-null  int32  \n",
      " 2   model                  818456 non-null  int32  \n",
      " 3   variant                818456 non-null  int32  \n",
      " 4   car_price              818456 non-null  int64  \n",
      " 5   car_badges             818456 non-null  int32  \n",
      " 6   car_title              818456 non-null  int32  \n",
      " 7   car_sub_title          818456 non-null  int32  \n",
      " 8   car_attention_grabber  818456 non-null  int32  \n",
      " 9   car_specs              818456 non-null  int32  \n",
      " 10  car_seller             818456 non-null  int32  \n",
      " 11  car_seller_location    818456 non-null  int32  \n",
      " 12  year                   818456 non-null  int32  \n",
      " 13  reg                    818456 non-null  int32  \n",
      " 14  body_type              818456 non-null  int32  \n",
      " 15  engine_vol             803010 non-null  float64\n",
      " 16  engine_size            814247 non-null  float64\n",
      " 17  engine_size_unit       818456 non-null  int32  \n",
      " 18  transmission           818456 non-null  int32  \n",
      " 19  feul_type              818456 non-null  int32  \n",
      " 20  ulez                   818456 non-null  int64  \n",
      " 21  full_service           818456 non-null  int64  \n",
      " 22  part_service           818456 non-null  int64  \n",
      " 23  part_warranty          818456 non-null  int64  \n",
      " 24  full_dealership        818456 non-null  int64  \n",
      " 25  first_year_road_tax    818456 non-null  int64  \n",
      " 26  brand_new              818456 non-null  int64  \n",
      " 27  finance_available      818456 non-null  int64  \n",
      " 28  discounted             818456 non-null  int64  \n",
      "dtypes: float64(2), int32(16), int64(11)\n",
      "memory usage: 131.1 MB\n"
     ]
    }
   ],
   "source": [
    "encoding_col = dataframe.select_dtypes(include='object')\n",
    "le = LabelEncoder()\n",
    "for col in encoding_col:\n",
    "    le.fit(encoding_col[col])\n",
    "    dataframe[col] = le.transform(encoding_col[col])\n",
    "dataframe.info()\n",
    "\n"
   ]
  },
  {
   "cell_type": "code",
   "execution_count": 55,
   "metadata": {},
   "outputs": [
    {
     "data": {
      "text/plain": [
       "[]"
      ]
     },
     "execution_count": 55,
     "metadata": {},
     "output_type": "execute_result"
    }
   ],
   "source": [
    "dataframe.columns[dataframe.isna().any()].tolist()"
   ]
  },
  {
   "attachments": {},
   "cell_type": "markdown",
   "metadata": {},
   "source": [
    "# Splitting data into train and test"
   ]
  },
  {
   "cell_type": "code",
   "execution_count": 9,
   "metadata": {},
   "outputs": [
    {
     "data": {
      "text/plain": [
       "0     89995\n",
       "1     92500\n",
       "2    109995\n",
       "3    124950\n",
       "4    124950\n",
       "Name: car_price, dtype: int64"
      ]
     },
     "execution_count": 9,
     "metadata": {},
     "output_type": "execute_result"
    }
   ],
   "source": [
    "y = dataframe['car_price']\n",
    "X = dataframe.drop(columns=['car_price'],axis=1)\n",
    "\n",
    "y.head()"
   ]
  },
  {
   "cell_type": "code",
   "execution_count": 10,
   "metadata": {},
   "outputs": [
    {
     "name": "stdout",
     "output_type": "stream",
     "text": [
      "(163691, 30)\n",
      "(163691,)\n"
     ]
    }
   ],
   "source": [
    "# 60% train ,20$ validation ,20% test \n",
    "X_train, X_test, y_train, y_test = train_test_split(X ,y , train_size=0.7, random_state=100 )\n",
    "X_train_or, X_test, y_train_or, y_test = train_test_split(X, y, test_size=0.2)\n",
    "X_train, X_val, y_train, y_val = train_test_split(X_train_or, y_train_or, test_size=0.25)\n",
    "print(X_val.shape)\n",
    "print(y_val.shape)"
   ]
  },
  {
   "cell_type": "code",
   "execution_count": 18,
   "metadata": {},
   "outputs": [
    {
     "data": {
      "text/plain": [
       "Index(['Customer_Id', 'make', 'model', 'variant', 'car_badges', 'car_title',\n",
       "       'car_sub_title', 'car_attention_grabber', 'car_specs', 'car_seller',\n",
       "       'car_seller_location', 'year', 'reg', 'body_type', 'miles',\n",
       "       'engine_vol', 'engine_size', 'engine_size_unit', 'transmission',\n",
       "       'feul_type', 'ulez', 'full_service', 'part_service', 'part_warranty',\n",
       "       'full_dealership', 'first_year_road_tax', 'brand_new',\n",
       "       'finance_available', 'discounted'],\n",
       "      dtype='object')"
      ]
     },
     "execution_count": 18,
     "metadata": {},
     "output_type": "execute_result"
    }
   ],
   "source": [
    "X_train.columns"
   ]
  },
  {
   "cell_type": "code",
   "execution_count": 20,
   "metadata": {},
   "outputs": [
    {
     "data": {
      "text/html": [
       "<div>\n",
       "<style scoped>\n",
       "    .dataframe tbody tr th:only-of-type {\n",
       "        vertical-align: middle;\n",
       "    }\n",
       "\n",
       "    .dataframe tbody tr th {\n",
       "        vertical-align: top;\n",
       "    }\n",
       "\n",
       "    .dataframe thead th {\n",
       "        text-align: right;\n",
       "    }\n",
       "</style>\n",
       "<table border=\"1\" class=\"dataframe\">\n",
       "  <thead>\n",
       "    <tr style=\"text-align: right;\">\n",
       "      <th></th>\n",
       "      <th>Customer_Id</th>\n",
       "      <th>make</th>\n",
       "      <th>model</th>\n",
       "      <th>variant</th>\n",
       "      <th>car_badges</th>\n",
       "      <th>car_title</th>\n",
       "      <th>car_sub_title</th>\n",
       "      <th>car_attention_grabber</th>\n",
       "      <th>car_specs</th>\n",
       "      <th>car_seller</th>\n",
       "      <th>...</th>\n",
       "      <th>feul_type</th>\n",
       "      <th>ulez</th>\n",
       "      <th>full_service</th>\n",
       "      <th>part_service</th>\n",
       "      <th>part_warranty</th>\n",
       "      <th>full_dealership</th>\n",
       "      <th>first_year_road_tax</th>\n",
       "      <th>brand_new</th>\n",
       "      <th>finance_available</th>\n",
       "      <th>discounted</th>\n",
       "    </tr>\n",
       "  </thead>\n",
       "  <tbody>\n",
       "    <tr>\n",
       "      <th>530087</th>\n",
       "      <td>530087</td>\n",
       "      <td>0.666667</td>\n",
       "      <td>0.523265</td>\n",
       "      <td>0.611986</td>\n",
       "      <td>0.009284</td>\n",
       "      <td>0.652637</td>\n",
       "      <td>0.017264</td>\n",
       "      <td>0.596316</td>\n",
       "      <td>0.924644</td>\n",
       "      <td>0.951112</td>\n",
       "      <td>...</td>\n",
       "      <td>0.666667</td>\n",
       "      <td>1.0</td>\n",
       "      <td>0</td>\n",
       "      <td>0</td>\n",
       "      <td>0</td>\n",
       "      <td>1</td>\n",
       "      <td>0</td>\n",
       "      <td>0</td>\n",
       "      <td>1</td>\n",
       "      <td>0</td>\n",
       "    </tr>\n",
       "    <tr>\n",
       "      <th>331093</th>\n",
       "      <td>331093</td>\n",
       "      <td>0.488372</td>\n",
       "      <td>0.353166</td>\n",
       "      <td>0.503376</td>\n",
       "      <td>0.008331</td>\n",
       "      <td>0.436359</td>\n",
       "      <td>0.726981</td>\n",
       "      <td>0.999690</td>\n",
       "      <td>0.794166</td>\n",
       "      <td>0.608526</td>\n",
       "      <td>...</td>\n",
       "      <td>0.111111</td>\n",
       "      <td>1.0</td>\n",
       "      <td>0</td>\n",
       "      <td>0</td>\n",
       "      <td>0</td>\n",
       "      <td>0</td>\n",
       "      <td>0</td>\n",
       "      <td>0</td>\n",
       "      <td>1</td>\n",
       "      <td>0</td>\n",
       "    </tr>\n",
       "    <tr>\n",
       "      <th>537394</th>\n",
       "      <td>537394</td>\n",
       "      <td>0.666667</td>\n",
       "      <td>0.604119</td>\n",
       "      <td>0.190208</td>\n",
       "      <td>0.009284</td>\n",
       "      <td>0.658215</td>\n",
       "      <td>0.894789</td>\n",
       "      <td>0.794897</td>\n",
       "      <td>0.520206</td>\n",
       "      <td>0.897763</td>\n",
       "      <td>...</td>\n",
       "      <td>0.111111</td>\n",
       "      <td>1.0</td>\n",
       "      <td>0</td>\n",
       "      <td>0</td>\n",
       "      <td>0</td>\n",
       "      <td>0</td>\n",
       "      <td>0</td>\n",
       "      <td>0</td>\n",
       "      <td>1</td>\n",
       "      <td>0</td>\n",
       "    </tr>\n",
       "    <tr>\n",
       "      <th>736583</th>\n",
       "      <td>736583</td>\n",
       "      <td>0.961240</td>\n",
       "      <td>0.618612</td>\n",
       "      <td>0.384637</td>\n",
       "      <td>0.015711</td>\n",
       "      <td>0.905680</td>\n",
       "      <td>0.159402</td>\n",
       "      <td>1.000000</td>\n",
       "      <td>0.528221</td>\n",
       "      <td>0.373257</td>\n",
       "      <td>...</td>\n",
       "      <td>0.666667</td>\n",
       "      <td>1.0</td>\n",
       "      <td>0</td>\n",
       "      <td>0</td>\n",
       "      <td>0</td>\n",
       "      <td>0</td>\n",
       "      <td>0</td>\n",
       "      <td>0</td>\n",
       "      <td>1</td>\n",
       "      <td>0</td>\n",
       "    </tr>\n",
       "    <tr>\n",
       "      <th>447133</th>\n",
       "      <td>447133</td>\n",
       "      <td>0.612403</td>\n",
       "      <td>0.225782</td>\n",
       "      <td>0.188239</td>\n",
       "      <td>0.015711</td>\n",
       "      <td>0.568458</td>\n",
       "      <td>0.614376</td>\n",
       "      <td>0.111836</td>\n",
       "      <td>0.269914</td>\n",
       "      <td>0.640126</td>\n",
       "      <td>...</td>\n",
       "      <td>0.111111</td>\n",
       "      <td>1.0</td>\n",
       "      <td>0</td>\n",
       "      <td>0</td>\n",
       "      <td>0</td>\n",
       "      <td>0</td>\n",
       "      <td>0</td>\n",
       "      <td>0</td>\n",
       "      <td>1</td>\n",
       "      <td>0</td>\n",
       "    </tr>\n",
       "  </tbody>\n",
       "</table>\n",
       "<p>5 rows × 29 columns</p>\n",
       "</div>"
      ],
      "text/plain": [
       "        Customer_Id      make     model   variant  car_badges  car_title   \n",
       "530087       530087  0.666667  0.523265  0.611986    0.009284   0.652637  \\\n",
       "331093       331093  0.488372  0.353166  0.503376    0.008331   0.436359   \n",
       "537394       537394  0.666667  0.604119  0.190208    0.009284   0.658215   \n",
       "736583       736583  0.961240  0.618612  0.384637    0.015711   0.905680   \n",
       "447133       447133  0.612403  0.225782  0.188239    0.015711   0.568458   \n",
       "\n",
       "        car_sub_title  car_attention_grabber  car_specs  car_seller  ...   \n",
       "530087       0.017264               0.596316   0.924644    0.951112  ...  \\\n",
       "331093       0.726981               0.999690   0.794166    0.608526  ...   \n",
       "537394       0.894789               0.794897   0.520206    0.897763  ...   \n",
       "736583       0.159402               1.000000   0.528221    0.373257  ...   \n",
       "447133       0.614376               0.111836   0.269914    0.640126  ...   \n",
       "\n",
       "        feul_type  ulez  full_service  part_service  part_warranty   \n",
       "530087   0.666667   1.0             0             0              0  \\\n",
       "331093   0.111111   1.0             0             0              0   \n",
       "537394   0.111111   1.0             0             0              0   \n",
       "736583   0.666667   1.0             0             0              0   \n",
       "447133   0.111111   1.0             0             0              0   \n",
       "\n",
       "        full_dealership  first_year_road_tax  brand_new  finance_available   \n",
       "530087                1                    0          0                  1  \\\n",
       "331093                0                    0          0                  1   \n",
       "537394                0                    0          0                  1   \n",
       "736583                0                    0          0                  1   \n",
       "447133                0                    0          0                  1   \n",
       "\n",
       "        discounted  \n",
       "530087           0  \n",
       "331093           0  \n",
       "537394           0  \n",
       "736583           0  \n",
       "447133           0  \n",
       "\n",
       "[5 rows x 29 columns]"
      ]
     },
     "execution_count": 20,
     "metadata": {},
     "output_type": "execute_result"
    }
   ],
   "source": [
    "num_val =['make', 'model', 'variant', 'car_badges', 'car_title', 'car_sub_title',\n",
    "       'car_attention_grabber', 'car_specs', 'car_seller', 'car_seller_location', \n",
    "       'year', 'reg', 'body_type', 'miles', 'engine_vol', 'engine_size', \n",
    "       'engine_size_unit', 'transmission', 'feul_type', 'ulez']\n",
    "scaler = MinMaxScaler()\n",
    "X_train[num_val] = scaler.fit_transform(X_train[num_val])\n",
    "X_train.head()\n"
   ]
  },
  {
   "attachments": {},
   "cell_type": "markdown",
   "metadata": {},
   "source": [
    "# Training the model"
   ]
  },
  {
   "attachments": {},
   "cell_type": "markdown",
   "metadata": {},
   "source": [
    "## Random forest"
   ]
  },
  {
   "cell_type": "code",
   "execution_count": 23,
   "metadata": {},
   "outputs": [],
   "source": [
    "from sklearn.ensemble import RandomForestRegressor\n",
    "from sklearn.impute import SimpleImputer\n",
    "imputer = SimpleImputer(strategy='mean')\n",
    "X_imputed = imputer.fit_transform(X_train)\n",
    "rfr = RandomForestRegressor()\n",
    "rfr.fit(X_imputed, y_train) # gets the parameters for the rfr model\n",
    "rfr_cv = cross_val_score(rfr,X, y, cv = 5, scoring = 'r2')\n",
    "print(\"R2: \", rfr_cv.mean())"
   ]
  }
 ],
 "metadata": {
  "kernelspec": {
   "display_name": "Python 3",
   "language": "python",
   "name": "python3"
  },
  "language_info": {
   "codemirror_mode": {
    "name": "ipython",
    "version": 3
   },
   "file_extension": ".py",
   "mimetype": "text/x-python",
   "name": "python",
   "nbconvert_exporter": "python",
   "pygments_lexer": "ipython3",
   "version": "3.11.3"
  }
 },
 "nbformat": 4,
 "nbformat_minor": 0
}
